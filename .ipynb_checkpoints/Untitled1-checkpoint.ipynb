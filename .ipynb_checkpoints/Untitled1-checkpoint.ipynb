{
 "cells": [
  {
   "cell_type": "code",
   "execution_count": null,
   "id": "d6419e75-d3dc-4417-af03-a47c22ed0c38",
   "metadata": {
    "tags": []
   },
   "outputs": [],
   "source": [
    "import fasttext\n",
    "import fasttext.util\n",
    "ft = fasttext.load_model('cc.vi.300.bin')\n",
    "ft.get_dimension()"
   ]
  },
  {
   "cell_type": "code",
   "execution_count": 1,
   "id": "b738cab1-c28e-47fb-85a5-14b6d0a6991c",
   "metadata": {},
   "outputs": [
    {
     "name": "stdout",
     "output_type": "stream",
     "text": [
      "Train Successfuly!\n"
     ]
    }
   ],
   "source": [
    "import fasttext\n",
    "\n",
    "# Train the FastText model\n",
    "model = fasttext.train_unsupervised('Questions.txt', model='skipgram')\n",
    "\n",
    "# Save the trained model\n",
    "model.save_model('FAQ_Model.bin')\n",
    "print('Train Successfuly!')"
   ]
  },
  {
   "cell_type": "code",
   "execution_count": null,
   "id": "ddddb13d-3d70-4ec1-8588-fd4b5718715d",
   "metadata": {
    "tags": []
   },
   "outputs": [],
   "source": [
    "import fasttext\n",
    "import numpy as np\n",
    "\n",
    "# Load your pre-trained FastText model\n",
    "model = fasttext.load_model('cc.vi.300.bin')\n",
    "\n",
    "# Sample FAQ data (replace with your actual FAQ data)\n",
    "faq_questions = [\"Học phí hutech là bao nhiêu?\", \"Các quyền lợi mà sinh viên được nhận khi tham gia Chương trình Chuẩn Quốc Tế?\", \"Ngành tài chính - ngân hàng là gì?\"]\n",
    "faq_answers = [\"Học phí tại Đại học Hutech được tính...\", \"Các quyền lợi của sinh viên...\", \"To reset your password, Tài chính ngân hàng là...\"]\n",
    "\n",
    "# Convert FAQ questions to vectors\n",
    "faq_questions_vectors = np.array([model.get_sentence_vector(q) for q in faq_questions])\n",
    "\n",
    "# Function for finding the most similar question\n",
    "def find_similar_question(query):\n",
    "    query_vector = model.get_sentence_vector(query)\n",
    "    similarities = np.dot(faq_questions_vectors, query_vector)\n",
    "    most_similar_index = np.argmax(similarities)\n",
    "    return faq_questions[most_similar_index]\n",
    "\n",
    "# Function for getting the answer based on the question\n",
    "def get_answer(question):\n",
    "    \n",
    "    index = faq_questions.index(question)\n",
    "    return faq_answers[index]\n",
    "\n",
    "# User input\n",
    "user_query = \"Học phí 1 tín chỉ là bao nhiêu?\"\n",
    "\n",
    "# Find the most similar FAQ question\n",
    "similar_question = find_similar_question(user_query)\n",
    "\n",
    "# Get the corresponding answer\n",
    "answer = get_answer(similar_question)\n",
    "\n",
    "# Print the result\n",
    "print(f\"User Query: {user_query}\")\n",
    "print(f\"Most Similar FAQ Question: {similar_question}\")\n",
    "print(f\"Answer: {answer}\")"
   ]
  },
  {
   "cell_type": "code",
   "execution_count": null,
   "id": "d29b5e7d-f055-4183-9f6e-88d6a6c0f3b6",
   "metadata": {
    "tags": []
   },
   "outputs": [],
   "source": [
    "import fasttext\n",
    "import numpy as np\n",
    "\n",
    "\n",
    "model = fasttext.load_model('cc.vi.300.bin')\n",
    "\n",
    "\n",
    "def read_file(file_path):\n",
    "    with open(file_path, 'r', encoding='utf-8') as file:\n",
    "        questions = [line.strip() for line in file.readlines()]\n",
    "    return questions\n",
    "\n",
    "\n",
    "faq_file_path = 'Questions.txt'\n",
    "answers_file_path = 'Answers.txt'\n",
    "\n",
    "faq_questions = read_file(faq_file_path)\n",
    "faq_answers = read_file(answers_file_path)\n",
    "\n",
    "\n",
    "faq_questions_vectors = np.array([model.get_sentence_vector(q) for q in faq_questions])\n",
    "\n",
    "\n",
    "\n",
    "\n",
    "def find_similar_questions(query, num_similar=5):\n",
    "    query_vector = model.get_sentence_vector(query)\n",
    "    similarities = np.dot(faq_questions_vectors, query_vector)\n",
    "    most_similar_indices = np.argsort(similarities)[::-1][:num_similar]\n",
    "    return [faq_questions[i] for i in most_similar_indices]\n",
    "\n",
    "def find_similar_question(query):\n",
    "    query_vector = model.get_sentence_vector(query)\n",
    "    similarities = np.dot(faq_questions_vectors, query_vector)\n",
    "    most_similar_index = np.argmax(similarities)\n",
    "    return faq_questions[most_similar_index]\n",
    "\n",
    "def get_answer(question):\n",
    "    index = faq_questions.index(question)\n",
    "    return faq_answers[index]\n",
    "\n",
    "\n",
    "user_query = \"Đại học CY CERGY PARIS - Pháp\"\n",
    "similar_questions = find_similar_questions(user_query)\n",
    "similar_question = find_similar_question(user_query)\n",
    "answer = get_answer(similar_question)\n",
    "\n",
    "print(f\"User Query: {user_query}\")\n",
    "print(f\"Most Similar FAQ Question:  \")\n",
    "print(*similar_questions,sep = \"\\n \") \n",
    "print(f\"Answer: {answer}\")"
   ]
  },
  {
   "cell_type": "code",
   "execution_count": 46,
   "id": "d767a130-1dd3-44b2-9d1d-91686a8f7ece",
   "metadata": {
    "tags": []
   },
   "outputs": [
    {
     "name": "stdout",
     "output_type": "stream",
     "text": [
      "User Query: Các môn chuyên ngành tiêu biểu của ngành Công Nghệ Thông Tin ?\n",
      "Most Similar FAQ Question: Các môn chuyên ngành tiêu biểu của ngành Công Nghệ Thông Tin ?\n",
      "Answer: Công nghệ phần mềm, Hệ thống thông tin tín dụng, Mạng máy tính, Máy học và ứng dụng, An ninh mạng\n"
     ]
    }
   ],
   "source": [
    "import fasttext\n",
    "import numpy as np\n",
    "\n",
    "\n",
    "model = fasttext.load_model('FAQ_Model.bin')\n",
    "\n",
    "\n",
    "def read_faq_data(file_path):\n",
    "    faq_data = []\n",
    "    with open(file_path, 'r', encoding='utf-8') as file:\n",
    "        for line in file:\n",
    "            question, answer = line.strip().split('\\t')\n",
    "            faq_data.append((question, answer))\n",
    "    return faq_data\n",
    "\n",
    "\n",
    "faq_file_path = 'faq_data.txt'\n",
    "faq_data = read_faq_data(faq_file_path)\n",
    "\n",
    "\n",
    "faq_questions = [q for q, a in faq_data]\n",
    "faq_questions_vectors = np.array([model.get_sentence_vector(q) for q in faq_questions])\n",
    "\n",
    "\n",
    "def find_similar_question(query):\n",
    "    query_vector = model.get_sentence_vector(query)\n",
    "    similarities = np.dot(faq_questions_vectors, query_vector)\n",
    "    most_similar_index = np.argmax(similarities)\n",
    "    return faq_questions[most_similar_index]\n",
    "\n",
    "\n",
    "def get_answer(question):\n",
    "    index = faq_questions.index(question)\n",
    "    return faq_data[index][1]\n",
    "\n",
    "\n",
    "# while True:\n",
    "#     user_query = input(\"Users: \")\n",
    "#     similar_question = find_similar_question(user_query)\n",
    "#     answer = get_answer(similar_question)\n",
    "#     # print(f\"User Query: {user_query}\")\n",
    "#     print(f\"Most Similar FAQ Question: {similar_question}\")\n",
    "#     print(f\"Answer: {answer}\")\n",
    "\n",
    "user_query = \"Các môn chuyên ngành tiêu biểu của ngành Công Nghệ Thông Tin ?\"\n",
    "similar_question = find_similar_question(user_query)\n",
    "answer = get_answer(similar_question)\n",
    "\n",
    "print(f\"User Query: {user_query}\")\n",
    "print(f\"Most Similar FAQ Question: {similar_question}\")\n",
    "print(f\"Answer: {answer}\")"
   ]
  },
  {
   "cell_type": "code",
   "execution_count": null,
   "id": "b81cf40b-7aef-4ec2-ada5-e7a5809d07d3",
   "metadata": {},
   "outputs": [],
   "source": []
  }
 ],
 "metadata": {
  "kernelspec": {
   "display_name": "Python 3 (ipykernel)",
   "language": "python",
   "name": "python3"
  },
  "language_info": {
   "codemirror_mode": {
    "name": "ipython",
    "version": 3
   },
   "file_extension": ".py",
   "mimetype": "text/x-python",
   "name": "python",
   "nbconvert_exporter": "python",
   "pygments_lexer": "ipython3",
   "version": "3.11.3"
  }
 },
 "nbformat": 4,
 "nbformat_minor": 5
}
